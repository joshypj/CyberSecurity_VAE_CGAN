{
 "cells": [
  {
   "cell_type": "code",
   "execution_count": 3,
   "id": "b64dcf65-a54f-4e73-88e6-36018a1da29d",
   "metadata": {},
   "outputs": [],
   "source": [
    "import pandas as pd\n",
    "import numpy as np\n",
    "from sklearn.preprocessing import StandardScaler, Normalizer, LabelEncoder\n",
    "from sklearn.model_selection import train_test_split\n",
    "from sklearn.decomposition import PCA\n",
    "import seaborn as sns\n",
    "import matplotlib.pyplot as plt"
   ]
  },
  {
   "cell_type": "markdown",
   "id": "f9bd01ef-e38e-450e-b95c-ab332860ffa7",
   "metadata": {},
   "source": [
    "**Read clean data**"
   ]
  },
  {
   "cell_type": "code",
   "execution_count": 4,
   "id": "f40463f6-3ccc-4f9a-8cdd-c2d350470f0d",
   "metadata": {},
   "outputs": [],
   "source": [
    "clean = pd.read_csv(\"../data/clean1.csv\")"
   ]
  },
  {
   "cell_type": "code",
   "execution_count": 5,
   "id": "8e98cfec-3535-4cfc-9553-baeda832acc1",
   "metadata": {},
   "outputs": [
    {
     "data": {
      "text/html": [
       "<div>\n",
       "<style scoped>\n",
       "    .dataframe tbody tr th:only-of-type {\n",
       "        vertical-align: middle;\n",
       "    }\n",
       "\n",
       "    .dataframe tbody tr th {\n",
       "        vertical-align: top;\n",
       "    }\n",
       "\n",
       "    .dataframe thead th {\n",
       "        text-align: right;\n",
       "    }\n",
       "</style>\n",
       "<table border=\"1\" class=\"dataframe\">\n",
       "  <thead>\n",
       "    <tr style=\"text-align: right;\">\n",
       "      <th></th>\n",
       "      <th>destination_port</th>\n",
       "      <th>flow_duration</th>\n",
       "      <th>total_fwd_packets</th>\n",
       "      <th>total_backward_packets</th>\n",
       "      <th>total_length_of_fwd_packets</th>\n",
       "      <th>total_length_of_bwd_packets</th>\n",
       "      <th>fwd_packet_length_max</th>\n",
       "      <th>fwd_packet_length_min</th>\n",
       "      <th>fwd_packet_length_mean</th>\n",
       "      <th>fwd_packet_length_std</th>\n",
       "      <th>...</th>\n",
       "      <th>min_seg_size_forward</th>\n",
       "      <th>active_mean</th>\n",
       "      <th>active_std</th>\n",
       "      <th>active_max</th>\n",
       "      <th>active_min</th>\n",
       "      <th>idle_mean</th>\n",
       "      <th>idle_std</th>\n",
       "      <th>idle_max</th>\n",
       "      <th>idle_min</th>\n",
       "      <th>label</th>\n",
       "    </tr>\n",
       "  </thead>\n",
       "  <tbody>\n",
       "    <tr>\n",
       "      <th>0</th>\n",
       "      <td>54865</td>\n",
       "      <td>3</td>\n",
       "      <td>2</td>\n",
       "      <td>0</td>\n",
       "      <td>12</td>\n",
       "      <td>0</td>\n",
       "      <td>6</td>\n",
       "      <td>6</td>\n",
       "      <td>6.0</td>\n",
       "      <td>0.0</td>\n",
       "      <td>...</td>\n",
       "      <td>20</td>\n",
       "      <td>0.0</td>\n",
       "      <td>0.0</td>\n",
       "      <td>0</td>\n",
       "      <td>0</td>\n",
       "      <td>0.0</td>\n",
       "      <td>0.0</td>\n",
       "      <td>0</td>\n",
       "      <td>0</td>\n",
       "      <td>BENIGN</td>\n",
       "    </tr>\n",
       "    <tr>\n",
       "      <th>1</th>\n",
       "      <td>55054</td>\n",
       "      <td>109</td>\n",
       "      <td>1</td>\n",
       "      <td>1</td>\n",
       "      <td>6</td>\n",
       "      <td>6</td>\n",
       "      <td>6</td>\n",
       "      <td>6</td>\n",
       "      <td>6.0</td>\n",
       "      <td>0.0</td>\n",
       "      <td>...</td>\n",
       "      <td>20</td>\n",
       "      <td>0.0</td>\n",
       "      <td>0.0</td>\n",
       "      <td>0</td>\n",
       "      <td>0</td>\n",
       "      <td>0.0</td>\n",
       "      <td>0.0</td>\n",
       "      <td>0</td>\n",
       "      <td>0</td>\n",
       "      <td>BENIGN</td>\n",
       "    </tr>\n",
       "    <tr>\n",
       "      <th>2</th>\n",
       "      <td>55055</td>\n",
       "      <td>52</td>\n",
       "      <td>1</td>\n",
       "      <td>1</td>\n",
       "      <td>6</td>\n",
       "      <td>6</td>\n",
       "      <td>6</td>\n",
       "      <td>6</td>\n",
       "      <td>6.0</td>\n",
       "      <td>0.0</td>\n",
       "      <td>...</td>\n",
       "      <td>20</td>\n",
       "      <td>0.0</td>\n",
       "      <td>0.0</td>\n",
       "      <td>0</td>\n",
       "      <td>0</td>\n",
       "      <td>0.0</td>\n",
       "      <td>0.0</td>\n",
       "      <td>0</td>\n",
       "      <td>0</td>\n",
       "      <td>BENIGN</td>\n",
       "    </tr>\n",
       "    <tr>\n",
       "      <th>3</th>\n",
       "      <td>46236</td>\n",
       "      <td>34</td>\n",
       "      <td>1</td>\n",
       "      <td>1</td>\n",
       "      <td>6</td>\n",
       "      <td>6</td>\n",
       "      <td>6</td>\n",
       "      <td>6</td>\n",
       "      <td>6.0</td>\n",
       "      <td>0.0</td>\n",
       "      <td>...</td>\n",
       "      <td>20</td>\n",
       "      <td>0.0</td>\n",
       "      <td>0.0</td>\n",
       "      <td>0</td>\n",
       "      <td>0</td>\n",
       "      <td>0.0</td>\n",
       "      <td>0.0</td>\n",
       "      <td>0</td>\n",
       "      <td>0</td>\n",
       "      <td>BENIGN</td>\n",
       "    </tr>\n",
       "    <tr>\n",
       "      <th>4</th>\n",
       "      <td>54863</td>\n",
       "      <td>3</td>\n",
       "      <td>2</td>\n",
       "      <td>0</td>\n",
       "      <td>12</td>\n",
       "      <td>0</td>\n",
       "      <td>6</td>\n",
       "      <td>6</td>\n",
       "      <td>6.0</td>\n",
       "      <td>0.0</td>\n",
       "      <td>...</td>\n",
       "      <td>20</td>\n",
       "      <td>0.0</td>\n",
       "      <td>0.0</td>\n",
       "      <td>0</td>\n",
       "      <td>0</td>\n",
       "      <td>0.0</td>\n",
       "      <td>0.0</td>\n",
       "      <td>0</td>\n",
       "      <td>0</td>\n",
       "      <td>BENIGN</td>\n",
       "    </tr>\n",
       "  </tbody>\n",
       "</table>\n",
       "<p>5 rows × 79 columns</p>\n",
       "</div>"
      ],
      "text/plain": [
       "   destination_port  flow_duration  total_fwd_packets  total_backward_packets  \\\n",
       "0             54865              3                  2                       0   \n",
       "1             55054            109                  1                       1   \n",
       "2             55055             52                  1                       1   \n",
       "3             46236             34                  1                       1   \n",
       "4             54863              3                  2                       0   \n",
       "\n",
       "   total_length_of_fwd_packets  total_length_of_bwd_packets  \\\n",
       "0                           12                            0   \n",
       "1                            6                            6   \n",
       "2                            6                            6   \n",
       "3                            6                            6   \n",
       "4                           12                            0   \n",
       "\n",
       "   fwd_packet_length_max  fwd_packet_length_min  fwd_packet_length_mean  \\\n",
       "0                      6                      6                     6.0   \n",
       "1                      6                      6                     6.0   \n",
       "2                      6                      6                     6.0   \n",
       "3                      6                      6                     6.0   \n",
       "4                      6                      6                     6.0   \n",
       "\n",
       "   fwd_packet_length_std  ...  min_seg_size_forward  active_mean  active_std  \\\n",
       "0                    0.0  ...                    20          0.0         0.0   \n",
       "1                    0.0  ...                    20          0.0         0.0   \n",
       "2                    0.0  ...                    20          0.0         0.0   \n",
       "3                    0.0  ...                    20          0.0         0.0   \n",
       "4                    0.0  ...                    20          0.0         0.0   \n",
       "\n",
       "   active_max  active_min  idle_mean  idle_std  idle_max  idle_min   label  \n",
       "0           0           0        0.0       0.0         0         0  BENIGN  \n",
       "1           0           0        0.0       0.0         0         0  BENIGN  \n",
       "2           0           0        0.0       0.0         0         0  BENIGN  \n",
       "3           0           0        0.0       0.0         0         0  BENIGN  \n",
       "4           0           0        0.0       0.0         0         0  BENIGN  \n",
       "\n",
       "[5 rows x 79 columns]"
      ]
     },
     "execution_count": 5,
     "metadata": {},
     "output_type": "execute_result"
    }
   ],
   "source": [
    "clean.head()"
   ]
  },
  {
   "cell_type": "markdown",
   "id": "24934fd0-611d-4f79-9244-273030d965d5",
   "metadata": {},
   "source": [
    "**Label Encoding**"
   ]
  },
  {
   "cell_type": "code",
   "execution_count": 6,
   "id": "a7da78e0-a488-4847-9970-4b1dcfc0c622",
   "metadata": {},
   "outputs": [
    {
     "data": {
      "text/plain": [
       "{0: 'BENIGN',\n",
       " 1: 'Bot',\n",
       " 2: 'DDoS',\n",
       " 3: 'DoS_GoldenEye',\n",
       " 4: 'DoS_Hulk',\n",
       " 5: 'DoS_Slowhttptest',\n",
       " 6: 'DoS_slowloris',\n",
       " 7: 'FTPPatator',\n",
       " 8: 'Heartbleed',\n",
       " 9: 'Infiltration',\n",
       " 10: 'PortScan',\n",
       " 11: 'SSHPatator',\n",
       " 12: 'Web_Attack_Brute_Force',\n",
       " 13: 'Web_Attack_Sql_Injection',\n",
       " 14: 'Web_Attack_XSS'}"
      ]
     },
     "execution_count": 6,
     "metadata": {},
     "output_type": "execute_result"
    }
   ],
   "source": [
    "le = LabelEncoder()\n",
    "clean['label'] = le.fit_transform(clean['label'])\n",
    "encoded_labels = {num:label for (num, label) in zip(range(15), le.classes_)}\n",
    "encoded_labels"
   ]
  },
  {
   "cell_type": "code",
   "execution_count": 12,
   "id": "2cd7ec93-d8c3-4af9-b850-b21c120ca687",
   "metadata": {},
   "outputs": [
    {
     "data": {
      "text/plain": [
       "15"
      ]
     },
     "execution_count": 12,
     "metadata": {},
     "output_type": "execute_result"
    }
   ],
   "source": [
    "len(np.unique(clean['label']))"
   ]
  },
  {
   "cell_type": "raw",
   "id": "ee3a688d-1e2a-4b82-bc88-08faea041e60",
   "metadata": {},
   "source": [
    "# We will be removing outliers from the dataset using IQR method\n",
    "def remove_outliers(df, multiplier):\n",
    "    numeric_df = df.select_dtypes(include=[float, int])  \n",
    "    Q5th = numeric_df.quantile(0.05)\n",
    "    Q95th = numeric_df.quantile(0.95)\n",
    "    IQR = Q95th - Q5th\n",
    "    is_not_outlier = ~((numeric_df < (Q5th - multiplier * IQR)) | (numeric_df > (Q95th + multiplier * IQR))).any(axis=1)\n",
    "    return df[is_not_outlier]\n",
    "\n",
    "data_clean = remove_outliers(clean, 10).dropna()\n",
    "\n",
    "data_clean.info(verbose=True, show_counts=True)"
   ]
  },
  {
   "cell_type": "code",
   "execution_count": 19,
   "id": "61e3e19f-a3d3-493d-98a6-0143a086315a",
   "metadata": {},
   "outputs": [],
   "source": [
    "data_clean = clean"
   ]
  },
  {
   "cell_type": "code",
   "execution_count": 20,
   "id": "1a33ba99-602d-4176-b6df-81067131c0d6",
   "metadata": {},
   "outputs": [
    {
     "data": {
      "text/plain": [
       "15"
      ]
     },
     "execution_count": 20,
     "metadata": {},
     "output_type": "execute_result"
    }
   ],
   "source": [
    "len(np.unique(data_clean['label']))"
   ]
  },
  {
   "cell_type": "code",
   "execution_count": 21,
   "id": "7633692c-2a26-4219-a606-759360eab7f9",
   "metadata": {},
   "outputs": [
    {
     "data": {
      "text/plain": [
       "(2827876, 79)"
      ]
     },
     "execution_count": 21,
     "metadata": {},
     "output_type": "execute_result"
    }
   ],
   "source": [
    "data_clean.shape"
   ]
  },
  {
   "cell_type": "markdown",
   "id": "a6184d09-d8dd-489f-8385-e9f723d7c9e9",
   "metadata": {},
   "source": [
    "**Train Test Split**"
   ]
  },
  {
   "cell_type": "code",
   "execution_count": 22,
   "id": "f458ad0b-e968-4a91-a72b-d978e5e40052",
   "metadata": {},
   "outputs": [],
   "source": [
    "x_train, x_test, y_train, y_test = train_test_split(data_clean.iloc[:,:-1], \n",
    "                                                    data_clean['label'], \n",
    "                                                    test_size=1/7.0, \n",
    "                                                    random_state=0)"
   ]
  },
  {
   "cell_type": "raw",
   "id": "5bafce56-6c3c-444d-b522-4e506492f6b9",
   "metadata": {},
   "source": [
    "# Not needed anymore, remove it from memory.\n",
    "del clean"
   ]
  },
  {
   "cell_type": "code",
   "execution_count": 23,
   "id": "26c2d8a6-5a3c-42b8-b1cc-cb059bab38a1",
   "metadata": {},
   "outputs": [
    {
     "name": "stdout",
     "output_type": "stream",
     "text": [
      "x_train (2423893, 78)\n",
      "y_train (2423893,)\n",
      "x_test (403983, 78)\n",
      "y_test (403983,)\n"
     ]
    }
   ],
   "source": [
    "print(\"x_train\", x_train.shape)\n",
    "print(\"y_train\", y_train.shape)\n",
    "print(\"x_test\", x_test.shape)\n",
    "print(\"y_test\", y_test.shape)"
   ]
  },
  {
   "cell_type": "code",
   "execution_count": 24,
   "id": "d2bd4668-2fcf-4ef6-8971-f5b4ec080b06",
   "metadata": {},
   "outputs": [
    {
     "data": {
      "text/plain": [
       "15"
      ]
     },
     "execution_count": 24,
     "metadata": {},
     "output_type": "execute_result"
    }
   ],
   "source": [
    "len(np.unique(y_train))"
   ]
  },
  {
   "cell_type": "markdown",
   "id": "531f2801-33c5-4578-83ba-c0041241eb62",
   "metadata": {},
   "source": [
    "**Data standardization**"
   ]
  },
  {
   "cell_type": "code",
   "execution_count": 25,
   "id": "0f5eb71e-c129-43f5-8366-f0b21913c37c",
   "metadata": {},
   "outputs": [],
   "source": [
    "ss = StandardScaler().fit(x_train)\n",
    "x_train = ss.transform(x_train)\n",
    "x_test = ss.transform(x_test)"
   ]
  },
  {
   "cell_type": "code",
   "execution_count": 26,
   "id": "546e912a-c563-4ea1-b7af-704678f4795a",
   "metadata": {},
   "outputs": [
    {
     "name": "stdout",
     "output_type": "stream",
     "text": [
      "x_train (2423893, 78)\n",
      "y_train (2423893,)\n",
      "x_test (403983, 78)\n",
      "y_test (403983,)\n"
     ]
    }
   ],
   "source": [
    "print(\"x_train\", x_train.shape)\n",
    "print(\"y_train\", y_train.shape)\n",
    "print(\"x_test\", x_test.shape)\n",
    "print(\"y_test\", y_test.shape)"
   ]
  },
  {
   "cell_type": "code",
   "execution_count": 29,
   "id": "12ab123e-45c3-423a-836a-1a258050096d",
   "metadata": {},
   "outputs": [
    {
     "data": {
      "text/html": [
       "<div>\n",
       "<style scoped>\n",
       "    .dataframe tbody tr th:only-of-type {\n",
       "        vertical-align: middle;\n",
       "    }\n",
       "\n",
       "    .dataframe tbody tr th {\n",
       "        vertical-align: top;\n",
       "    }\n",
       "\n",
       "    .dataframe thead th {\n",
       "        text-align: right;\n",
       "    }\n",
       "</style>\n",
       "<table border=\"1\" class=\"dataframe\">\n",
       "  <thead>\n",
       "    <tr style=\"text-align: right;\">\n",
       "      <th></th>\n",
       "      <th>0</th>\n",
       "      <th>1</th>\n",
       "      <th>2</th>\n",
       "      <th>3</th>\n",
       "      <th>4</th>\n",
       "      <th>5</th>\n",
       "      <th>6</th>\n",
       "      <th>7</th>\n",
       "      <th>8</th>\n",
       "      <th>9</th>\n",
       "      <th>...</th>\n",
       "      <th>68</th>\n",
       "      <th>69</th>\n",
       "      <th>70</th>\n",
       "      <th>71</th>\n",
       "      <th>72</th>\n",
       "      <th>73</th>\n",
       "      <th>74</th>\n",
       "      <th>75</th>\n",
       "      <th>76</th>\n",
       "      <th>77</th>\n",
       "    </tr>\n",
       "  </thead>\n",
       "  <tbody>\n",
       "    <tr>\n",
       "      <th>count</th>\n",
       "      <td>2.423893e+06</td>\n",
       "      <td>2.423893e+06</td>\n",
       "      <td>2.423893e+06</td>\n",
       "      <td>2.423893e+06</td>\n",
       "      <td>2.423893e+06</td>\n",
       "      <td>2.423893e+06</td>\n",
       "      <td>2.423893e+06</td>\n",
       "      <td>2.423893e+06</td>\n",
       "      <td>2.423893e+06</td>\n",
       "      <td>2.423893e+06</td>\n",
       "      <td>...</td>\n",
       "      <td>2.423893e+06</td>\n",
       "      <td>2.423893e+06</td>\n",
       "      <td>2.423893e+06</td>\n",
       "      <td>2.423893e+06</td>\n",
       "      <td>2.423893e+06</td>\n",
       "      <td>2.423893e+06</td>\n",
       "      <td>2.423893e+06</td>\n",
       "      <td>2.423893e+06</td>\n",
       "      <td>2.423893e+06</td>\n",
       "      <td>2.423893e+06</td>\n",
       "    </tr>\n",
       "    <tr>\n",
       "      <th>mean</th>\n",
       "      <td>5.569630e-15</td>\n",
       "      <td>-3.979661e-16</td>\n",
       "      <td>1.835861e-15</td>\n",
       "      <td>2.686612e-15</td>\n",
       "      <td>7.419108e-15</td>\n",
       "      <td>-6.472542e-17</td>\n",
       "      <td>2.238185e-15</td>\n",
       "      <td>1.008723e-14</td>\n",
       "      <td>-1.545215e-16</td>\n",
       "      <td>9.475330e-15</td>\n",
       "      <td>...</td>\n",
       "      <td>-7.143387e-16</td>\n",
       "      <td>4.657786e-15</td>\n",
       "      <td>-1.326407e-14</td>\n",
       "      <td>1.643891e-14</td>\n",
       "      <td>-1.620532e-14</td>\n",
       "      <td>-6.933288e-15</td>\n",
       "      <td>1.957735e-14</td>\n",
       "      <td>2.171427e-15</td>\n",
       "      <td>1.374099e-14</td>\n",
       "      <td>5.278001e-15</td>\n",
       "    </tr>\n",
       "    <tr>\n",
       "      <th>std</th>\n",
       "      <td>1.000000e+00</td>\n",
       "      <td>1.000000e+00</td>\n",
       "      <td>1.000000e+00</td>\n",
       "      <td>1.000000e+00</td>\n",
       "      <td>1.000000e+00</td>\n",
       "      <td>1.000000e+00</td>\n",
       "      <td>1.000000e+00</td>\n",
       "      <td>1.000000e+00</td>\n",
       "      <td>1.000000e+00</td>\n",
       "      <td>1.000000e+00</td>\n",
       "      <td>...</td>\n",
       "      <td>1.000000e+00</td>\n",
       "      <td>1.000000e+00</td>\n",
       "      <td>1.000000e+00</td>\n",
       "      <td>1.000000e+00</td>\n",
       "      <td>1.000000e+00</td>\n",
       "      <td>1.000000e+00</td>\n",
       "      <td>1.000000e+00</td>\n",
       "      <td>1.000000e+00</td>\n",
       "      <td>1.000000e+00</td>\n",
       "      <td>1.000000e+00</td>\n",
       "    </tr>\n",
       "    <tr>\n",
       "      <th>min</th>\n",
       "      <td>-4.411298e-01</td>\n",
       "      <td>-4.396094e-01</td>\n",
       "      <td>-1.140629e-02</td>\n",
       "      <td>-1.059977e-02</td>\n",
       "      <td>-5.243808e-02</td>\n",
       "      <td>-7.194978e-03</td>\n",
       "      <td>-2.895910e-01</td>\n",
       "      <td>-3.099415e-01</td>\n",
       "      <td>-3.130656e-01</td>\n",
       "      <td>-2.451598e-01</td>\n",
       "      <td>...</td>\n",
       "      <td>-8.695153e-03</td>\n",
       "      <td>-4.807329e+02</td>\n",
       "      <td>-1.270632e-01</td>\n",
       "      <td>-1.058741e-01</td>\n",
       "      <td>-1.503410e-01</td>\n",
       "      <td>-1.021455e-01</td>\n",
       "      <td>-3.520982e-01</td>\n",
       "      <td>-1.094647e-01</td>\n",
       "      <td>-3.570422e-01</td>\n",
       "      <td>-3.391643e-01</td>\n",
       "    </tr>\n",
       "    <tr>\n",
       "      <th>25%</th>\n",
       "      <td>-4.382287e-01</td>\n",
       "      <td>-4.396044e-01</td>\n",
       "      <td>-9.997440e-03</td>\n",
       "      <td>-9.545546e-03</td>\n",
       "      <td>-5.129466e-02</td>\n",
       "      <td>-7.194035e-03</td>\n",
       "      <td>-2.812193e-01</td>\n",
       "      <td>-3.099415e-01</td>\n",
       "      <td>-2.807810e-01</td>\n",
       "      <td>-2.451598e-01</td>\n",
       "      <td>...</td>\n",
       "      <td>-8.695153e-03</td>\n",
       "      <td>2.597627e-03</td>\n",
       "      <td>-1.270632e-01</td>\n",
       "      <td>-1.058741e-01</td>\n",
       "      <td>-1.503410e-01</td>\n",
       "      <td>-1.021455e-01</td>\n",
       "      <td>-3.520982e-01</td>\n",
       "      <td>-1.094647e-01</td>\n",
       "      <td>-3.570422e-01</td>\n",
       "      <td>-3.391643e-01</td>\n",
       "    </tr>\n",
       "    <tr>\n",
       "      <th>50%</th>\n",
       "      <td>-4.367509e-01</td>\n",
       "      <td>-4.386782e-01</td>\n",
       "      <td>-9.997440e-03</td>\n",
       "      <td>-8.491323e-03</td>\n",
       "      <td>-4.653037e-02</td>\n",
       "      <td>-7.136973e-03</td>\n",
       "      <td>-2.379657e-01</td>\n",
       "      <td>-2.768533e-01</td>\n",
       "      <td>-1.301196e-01</td>\n",
       "      <td>-2.451598e-01</td>\n",
       "      <td>...</td>\n",
       "      <td>-7.015856e-03</td>\n",
       "      <td>2.601208e-03</td>\n",
       "      <td>-1.270632e-01</td>\n",
       "      <td>-1.058741e-01</td>\n",
       "      <td>-1.503410e-01</td>\n",
       "      <td>-1.021455e-01</td>\n",
       "      <td>-3.520982e-01</td>\n",
       "      <td>-1.094647e-01</td>\n",
       "      <td>-3.570422e-01</td>\n",
       "      <td>-3.391643e-01</td>\n",
       "    </tr>\n",
       "    <tr>\n",
       "      <th>75%</th>\n",
       "      <td>-4.168816e-01</td>\n",
       "      <td>-3.432397e-01</td>\n",
       "      <td>-5.770889e-03</td>\n",
       "      <td>-6.382879e-03</td>\n",
       "      <td>-3.452438e-02</td>\n",
       "      <td>-6.966728e-03</td>\n",
       "      <td>-1.765735e-01</td>\n",
       "      <td>2.856470e-01</td>\n",
       "      <td>-4.402741e-02</td>\n",
       "      <td>-1.520273e-01</td>\n",
       "      <td>...</td>\n",
       "      <td>-5.336559e-03</td>\n",
       "      <td>2.608372e-03</td>\n",
       "      <td>-1.270632e-01</td>\n",
       "      <td>-1.058741e-01</td>\n",
       "      <td>-1.503410e-01</td>\n",
       "      <td>-1.021455e-01</td>\n",
       "      <td>-3.520982e-01</td>\n",
       "      <td>-1.094647e-01</td>\n",
       "      <td>-3.570422e-01</td>\n",
       "      <td>-3.391643e-01</td>\n",
       "    </tr>\n",
       "    <tr>\n",
       "      <th>max</th>\n",
       "      <td>3.145954e+00</td>\n",
       "      <td>3.123704e+00</td>\n",
       "      <td>3.080436e+02</td>\n",
       "      <td>3.070421e+02</td>\n",
       "      <td>1.229132e+03</td>\n",
       "      <td>3.022835e+02</td>\n",
       "      <td>3.434119e+01</td>\n",
       "      <td>3.815515e+01</td>\n",
       "      <td>3.165328e+01</td>\n",
       "      <td>2.511989e+01</td>\n",
       "      <td>...</td>\n",
       "      <td>3.484471e+02</td>\n",
       "      <td>2.703288e-03</td>\n",
       "      <td>1.713004e+02</td>\n",
       "      <td>1.817948e+02</td>\n",
       "      <td>1.078994e+02</td>\n",
       "      <td>1.925776e+02</td>\n",
       "      <td>4.724705e+00</td>\n",
       "      <td>1.660525e+01</td>\n",
       "      <td>4.566512e+00</td>\n",
       "      <td>4.795453e+00</td>\n",
       "    </tr>\n",
       "  </tbody>\n",
       "</table>\n",
       "<p>8 rows × 78 columns</p>\n",
       "</div>"
      ],
      "text/plain": [
       "                 0             1             2             3             4   \\\n",
       "count  2.423893e+06  2.423893e+06  2.423893e+06  2.423893e+06  2.423893e+06   \n",
       "mean   5.569630e-15 -3.979661e-16  1.835861e-15  2.686612e-15  7.419108e-15   \n",
       "std    1.000000e+00  1.000000e+00  1.000000e+00  1.000000e+00  1.000000e+00   \n",
       "min   -4.411298e-01 -4.396094e-01 -1.140629e-02 -1.059977e-02 -5.243808e-02   \n",
       "25%   -4.382287e-01 -4.396044e-01 -9.997440e-03 -9.545546e-03 -5.129466e-02   \n",
       "50%   -4.367509e-01 -4.386782e-01 -9.997440e-03 -8.491323e-03 -4.653037e-02   \n",
       "75%   -4.168816e-01 -3.432397e-01 -5.770889e-03 -6.382879e-03 -3.452438e-02   \n",
       "max    3.145954e+00  3.123704e+00  3.080436e+02  3.070421e+02  1.229132e+03   \n",
       "\n",
       "                 5             6             7             8             9   \\\n",
       "count  2.423893e+06  2.423893e+06  2.423893e+06  2.423893e+06  2.423893e+06   \n",
       "mean  -6.472542e-17  2.238185e-15  1.008723e-14 -1.545215e-16  9.475330e-15   \n",
       "std    1.000000e+00  1.000000e+00  1.000000e+00  1.000000e+00  1.000000e+00   \n",
       "min   -7.194978e-03 -2.895910e-01 -3.099415e-01 -3.130656e-01 -2.451598e-01   \n",
       "25%   -7.194035e-03 -2.812193e-01 -3.099415e-01 -2.807810e-01 -2.451598e-01   \n",
       "50%   -7.136973e-03 -2.379657e-01 -2.768533e-01 -1.301196e-01 -2.451598e-01   \n",
       "75%   -6.966728e-03 -1.765735e-01  2.856470e-01 -4.402741e-02 -1.520273e-01   \n",
       "max    3.022835e+02  3.434119e+01  3.815515e+01  3.165328e+01  2.511989e+01   \n",
       "\n",
       "       ...            68            69            70            71  \\\n",
       "count  ...  2.423893e+06  2.423893e+06  2.423893e+06  2.423893e+06   \n",
       "mean   ... -7.143387e-16  4.657786e-15 -1.326407e-14  1.643891e-14   \n",
       "std    ...  1.000000e+00  1.000000e+00  1.000000e+00  1.000000e+00   \n",
       "min    ... -8.695153e-03 -4.807329e+02 -1.270632e-01 -1.058741e-01   \n",
       "25%    ... -8.695153e-03  2.597627e-03 -1.270632e-01 -1.058741e-01   \n",
       "50%    ... -7.015856e-03  2.601208e-03 -1.270632e-01 -1.058741e-01   \n",
       "75%    ... -5.336559e-03  2.608372e-03 -1.270632e-01 -1.058741e-01   \n",
       "max    ...  3.484471e+02  2.703288e-03  1.713004e+02  1.817948e+02   \n",
       "\n",
       "                 72            73            74            75            76  \\\n",
       "count  2.423893e+06  2.423893e+06  2.423893e+06  2.423893e+06  2.423893e+06   \n",
       "mean  -1.620532e-14 -6.933288e-15  1.957735e-14  2.171427e-15  1.374099e-14   \n",
       "std    1.000000e+00  1.000000e+00  1.000000e+00  1.000000e+00  1.000000e+00   \n",
       "min   -1.503410e-01 -1.021455e-01 -3.520982e-01 -1.094647e-01 -3.570422e-01   \n",
       "25%   -1.503410e-01 -1.021455e-01 -3.520982e-01 -1.094647e-01 -3.570422e-01   \n",
       "50%   -1.503410e-01 -1.021455e-01 -3.520982e-01 -1.094647e-01 -3.570422e-01   \n",
       "75%   -1.503410e-01 -1.021455e-01 -3.520982e-01 -1.094647e-01 -3.570422e-01   \n",
       "max    1.078994e+02  1.925776e+02  4.724705e+00  1.660525e+01  4.566512e+00   \n",
       "\n",
       "                 77  \n",
       "count  2.423893e+06  \n",
       "mean   5.278001e-15  \n",
       "std    1.000000e+00  \n",
       "min   -3.391643e-01  \n",
       "25%   -3.391643e-01  \n",
       "50%   -3.391643e-01  \n",
       "75%   -3.391643e-01  \n",
       "max    4.795453e+00  \n",
       "\n",
       "[8 rows x 78 columns]"
      ]
     },
     "execution_count": 29,
     "metadata": {},
     "output_type": "execute_result"
    }
   ],
   "source": [
    "x_train_df = pd.DataFrame(x_train)\n",
    "x_train_df.describe()"
   ]
  },
  {
   "cell_type": "code",
   "execution_count": 30,
   "id": "27413508-cbaa-4fdd-a056-a50d231a2dbe",
   "metadata": {},
   "outputs": [
    {
     "data": {
      "text/plain": [
       "15"
      ]
     },
     "execution_count": 30,
     "metadata": {},
     "output_type": "execute_result"
    }
   ],
   "source": [
    "len(np.unique(y_train))"
   ]
  },
  {
   "cell_type": "markdown",
   "id": "92e158a3-ce6a-44e9-a53d-f9734c898857",
   "metadata": {},
   "source": [
    "**PCA**"
   ]
  },
  {
   "cell_type": "code",
   "execution_count": 31,
   "id": "e1658ae1-120a-4630-8da2-629bd6b667df",
   "metadata": {},
   "outputs": [],
   "source": [
    "pca = PCA(.99).fit(x_train)\n",
    "x_train = pca.transform(x_train)\n",
    "x_test = pca.transform(x_test)"
   ]
  },
  {
   "cell_type": "code",
   "execution_count": 32,
   "id": "5b634479-0e96-4677-9f28-565d30d1d84c",
   "metadata": {},
   "outputs": [
    {
     "name": "stdout",
     "output_type": "stream",
     "text": [
      "x_train (2423893, 33)\n",
      "y_train (2423893,)\n",
      "x_test (403983, 33)\n",
      "y_test (403983,)\n"
     ]
    }
   ],
   "source": [
    "print(\"x_train\", x_train.shape)\n",
    "print(\"y_train\", y_train.shape)\n",
    "print(\"x_test\", x_test.shape)\n",
    "print(\"y_test\", y_test.shape)"
   ]
  },
  {
   "cell_type": "markdown",
   "id": "d631f7ba-40e0-450e-907e-64da2e1639c5",
   "metadata": {},
   "source": [
    "**Normalizing**"
   ]
  },
  {
   "cell_type": "code",
   "execution_count": 33,
   "id": "dadc02c7-16f0-4984-af4f-e86751ecc1b8",
   "metadata": {},
   "outputs": [],
   "source": [
    "norm = Normalizer().fit(x_train)\n",
    "x_train = norm.transform(x_train)\n",
    "x_test = norm.transform(x_test)"
   ]
  },
  {
   "cell_type": "markdown",
   "id": "9ee336c9-a93d-4966-a2b6-e69eb4d7b52a",
   "metadata": {},
   "source": [
    "**Reshaping labels**"
   ]
  },
  {
   "cell_type": "code",
   "execution_count": 34,
   "id": "be9e8804-df57-4375-9656-bda80faaa6cb",
   "metadata": {},
   "outputs": [],
   "source": [
    "y_train = y_train.values.reshape(-1,1)\n",
    "y_test = y_test.values.reshape(-1,1)"
   ]
  },
  {
   "cell_type": "markdown",
   "id": "12e9b045-7865-49fb-b230-f5286b0c0a2d",
   "metadata": {},
   "source": [
    "**Saving**"
   ]
  },
  {
   "cell_type": "code",
   "execution_count": 35,
   "id": "abdcdfca-3e06-40ed-ba87-1b20a1c683c6",
   "metadata": {},
   "outputs": [],
   "source": [
    "np.save(\"../data/preproc/x_train.npy\", x_train)\n",
    "np.save(\"../data/preproc/y_train.npy\", y_train)\n",
    "np.save(\"../data/preproc/x_test.npy\", x_test)\n",
    "np.save(\"../data/preproc/y_test.npy\", y_test)"
   ]
  },
  {
   "cell_type": "code",
   "execution_count": 36,
   "id": "7d4b2069-769d-4bec-9763-b040200b61e9",
   "metadata": {},
   "outputs": [
    {
     "name": "stdout",
     "output_type": "stream",
     "text": [
      "x_train (2423893, 33)\n",
      "y_train (2423893, 1)\n",
      "x_test (403983, 33)\n",
      "y_test (403983, 1)\n"
     ]
    }
   ],
   "source": [
    "print(\"x_train\", x_train.shape)\n",
    "print(\"y_train\", y_train.shape)\n",
    "print(\"x_test\", x_test.shape)\n",
    "print(\"y_test\", y_test.shape)"
   ]
  },
  {
   "cell_type": "code",
   "execution_count": 37,
   "id": "9d2c3ee4-a925-4a4d-883e-92a8145d78b2",
   "metadata": {},
   "outputs": [
    {
     "data": {
      "text/plain": [
       "15"
      ]
     },
     "execution_count": 37,
     "metadata": {},
     "output_type": "execute_result"
    }
   ],
   "source": [
    "len(np.unique(y_train))"
   ]
  },
  {
   "cell_type": "code",
   "execution_count": null,
   "id": "4d8ba330-4b57-491d-981f-244cc255e4b7",
   "metadata": {},
   "outputs": [],
   "source": []
  }
 ],
 "metadata": {
  "kernelspec": {
   "display_name": "Python 3 (ipykernel)",
   "language": "python",
   "name": "python3"
  },
  "language_info": {
   "codemirror_mode": {
    "name": "ipython",
    "version": 3
   },
   "file_extension": ".py",
   "mimetype": "text/x-python",
   "name": "python",
   "nbconvert_exporter": "python",
   "pygments_lexer": "ipython3",
   "version": "3.8.12"
  }
 },
 "nbformat": 4,
 "nbformat_minor": 5
}
